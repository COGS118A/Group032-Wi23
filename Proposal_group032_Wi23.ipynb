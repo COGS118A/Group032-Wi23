{
  "cells": [
    {
      "cell_type": "markdown",
      "metadata": {
        "id": "l7EwYtcZAN_5"
      },
      "source": [
        "# COGS 118A- Project Proposal"
      ]
    },
    {
      "cell_type": "markdown",
      "metadata": {
        "id": "BcJZdInzAN_8"
      },
      "source": [
        "# Names\n",
        "\n",
        "- Alden Yue\n",
        "- Aryan Safari\n",
        "- Vincent Rothenberg\n",
        "- Nil Beserler"
      ]
    },
    {
      "cell_type": "markdown",
      "metadata": {
        "id": "xnSLqXp9AOAG"
      },
      "source": [
        "# Abstract \n",
        "Machine learning has recently become an important tool in improving care for patients, by assisting in diagnosis, treatment planning, patient monitoring, and predictive analysis. Our goal is to use this tool to build a model that predicts the discharge type of patients diagnosed with diabetes. Our dataset includes data from 130 hospitals in the United States, that were collected over 10 years. It contains over 50 features including; admission type, time in the hospital, and insulin levels, in addition, it includes hospital outcomes for each patient. The dataset was collected by extracting information from databases that satisfied specific criteria such as having diabetes and minimum length of stay being 24 hours. Using classification methods we will use this data to predict outcomes for the patients, this could potentially help hospitals to reallocate resources, reduce readmissions and improve the patient experience.  We will measure the performance of our model by using various error metrics like F1 and balanced error rate. \n",
        "\n",
        "\n",
        "\n"
      ]
    },
    {
      "cell_type": "markdown",
      "metadata": {
        "id": "wetICRETAOAH"
      },
      "source": [
        "# Background\n",
        "\n",
        "Diabetes is a prevalent chronic disease that poses a significant threat to human health. It is characterized by high levels of blood glucose resulting from either defective insulin secretion or impaired biological effects of insulin. The number of diabetic patients worldwide has been increasing over time, and data indicate that one in ten adults may suffer from diabetes in the future. This alarming figure highlights the urgent need for attention to combat this disease. In recent years, machine learning has emerged as a powerful tool in the field of medical health, offering new opportunities for improving disease diagnosis and treatment. There has been significant research utilizing machine learning on the topic of diabetes, for example our dataset sourced from the Strack paper <a name=\"strack\"></a>[<sup>[1]</sup>](#stracknote) as well as Singla <a name=\"singla\"></a>[<sup>[2]</sup>](#singlanote)  and <a name=\"gulati\"></a>[<sup>[3]</sup>](#gulatinote)  which provides a good overview of the current literature.\n"
      ]
    },
    {
      "cell_type": "markdown",
      "metadata": {
        "id": "1pooyYHbAOAH"
      },
      "source": [
        "# Problem Statement\n",
        "\n",
        "We intend to build a machine learning model to predict the discharge type of patients from a dataset of hospital admissions of patients with diabetes from the years 1999 to 2008.  There are multiple different class labels, such as sent home, transferred to another hospital, hospice, or expired, which lends itself to a multiclass prediction model.  Numerous features are associated with each patient, such as their demographics, type of admission, top 3 diagnoses, lab results, and other medications provided.  We hope to be able to predict which patients are most at risk of negative outcomes depending on the associated data, so as to better allocate hospital resources and reduce mortality for future patients with diabetes.  "
      ]
    },
    {
      "cell_type": "markdown",
      "metadata": {
        "id": "GLCx8D-fAOAH"
      },
      "source": [
        "# Data\n",
        "\n",
        "[Diabetes 130-US hospitals for years 1999-2008 Data Set:](https://archive.ics.uci.edu/ml/datasets/Diabetes+130-US+hospitals+for+years+1999-2008)\n",
        "\n",
        " \n",
        "**Dataset Info:** 100,000 observations with 50 columns\n",
        "\n",
        "**Observation Info:**\n",
        "Each observation contains patient attributes and their hospital outcomes from data collected from 1999 to 2008 at 130 US hospitals and integrated delivery networks. Relevant attributes for our model include race, gender, age, admission type, time in hospital, medical speciality of admitting physician, number of lab tests performed, HbA1c test result, diagnosis, number of medication, diabetic medications, number of outpatient, inpatient, and emergency visits in the year before hospitalization, etc.\n",
        "\n",
        "**Critical Variables:**\n",
        "Important and Relevant variables include race, age, diabetic medications, admission type, and diagnosis. Race and Admission Type are represented categorically, age and weight are represented by 10 and 25 year bins respectively, and diabetic medications are represented by a boolean. The diagnosis is represented by the first 3 digits of their ICD9 code (International Classification of Diseases, Ninth Revision, Clinical Modification).\n",
        "\n",
        "**Data Cleaning and Transformation:**\n",
        "Categorical data will need to be one-hot encoded. The Age bins will be represented by the average of the bin and then normalized to range from [0-1]. The weights column will be largely useless as most of the observations lack weight data. The diabetes medications will need to be converted from Yes/No to 0/1. Diagnoses will need to be converted from ICD9 codes to Categorical information for us to be able to understand and then transformed into a class or one-hot encoded depending on our classifier.\n",
        "\n",
        "\n",
        "**Source:** *The data are submitted on behalf of the Center for Clinical and Translational Research, Virginia Commonwealth University, a recipient of NIH CTSA grant UL1 TR00058 and a recipient of the CERNER data. John Clore (jclore '@' vcu.edu), Krzysztof J. Cios (kcios '@' vcu.edu), Jon DeShazo (jpdeshazo '@' vcu.edu), and Beata Strack (strackb '@' vcu.edu). This data is a de-identified abstract of the Health Facts database (Cerner Corporation, Kansas City, MO).* "
      ]
    },
    {
      "cell_type": "markdown",
      "metadata": {
        "id": "G_IsimN1AOAI"
      },
      "source": [
        "# Proposed Solution\n",
        "\n",
        "Our proposed solution is to first conduct data cleaning and preparation of the diabetes dataset for a wide array of algorithms and model selection.  A number of the features for the medication and lab results have a small number of values, such as steady / up / down / no, which makes it well suited for one hot encoding.  There are some continuous values such as age, number of medications, time in hospital, which should be normalized so as to not overweight one column over another.  \n",
        "\n",
        "We plan to use multiple algorithms with the benchmark model being multinomial logistic regression as it is one of the simplest.  A decision tree classifier which will make multiclass predictions based on the binary values in one hot encodings as well as the continuous values in various features.  The random forest classifier will be another useful algorithm which forms an ensemble of decision trees.  A K-Neighbors classifier may work well for multiclass prediction, however it is computationally expensive to perform on high dimensional data which may first require dimensionality reduction through PCA / tSNE / UMAP.   A multiclass Linear SVC which uses one-vs-rest comparison should scale well for a relatively large dataset of approximately 100,000 data points and 100+ features after one hot encoding.  Cross validation and hyperparameter grid search will also be used to find the most optimal model for each algorithm.  "
      ]
    },
    {
      "cell_type": "markdown",
      "metadata": {
        "id": "mj8j77NbAOAI"
      },
      "source": [
        "# Evaluation Metrics\n",
        "\n",
        "The dataset has multiple classes which are unbalanced, so we should use a metric which incorporates both the number of false positives and false negatives.  The F1 score should be well suited, as well as the Balanced Error Rate.  We will generate confusion matrices to show the performance of the models and if there are systematic errors in the bias of the predictions.  "
      ]
    },
    {
      "cell_type": "markdown",
      "metadata": {
        "id": "7zbEipfvAOAI"
      },
      "source": [
        "# Ethics & Privacy"
      ]
    },
    {
      "cell_type": "markdown",
      "metadata": {
        "id": "PQiTv4YgAOAI"
      },
      "source": [
        "Patient names and demographics are considered to be sensitive information therefore, all the patient data we will be using is anonymized and confidential and will be represented as Patient ID’s. Since the dataset has a deidentified nature, the study could be considered to not have human subjects and doesn’t require consent per Helsinki Declaration. The dataset is prepared by UCI’s Machine Learning Repository and was submitted on behalf of the Center for Clinical and Translational Research, the dataset is of high quality and was collected in an ethical manner fitting certain criteria that eliminate any biases.  \n",
        "\n",
        "\n"
      ]
    },
    {
      "cell_type": "markdown",
      "metadata": {
        "id": "DIZbeGipAOAJ"
      },
      "source": [
        "# Team Expectations "
      ]
    },
    {
      "cell_type": "markdown",
      "metadata": {
        "id": "tCFaa55KAOAJ"
      },
      "source": [
        "* *Expectation 1:* Establish clear goals for the team and ensure that everyone understands their roles and responsibilities in achieving these goals.\n",
        " \n",
        "* *Expectation 2:* Hold regular weekly meetings to discuss progress, identify any potential issues, and collaborate on solutions.\n",
        "\n",
        "* *Expectation 3:* Set realistic deadlines for each task to ensure timely completion and maintain accountability for meeting project milestones.\n",
        "\n",
        "* *Expectation 4:* Encourage regular feedback among team members to identify areas of improvement and celebrate successes. Work collaboratively to address any issues that arise, and seek out solutions that benefit the team and project as a whole.\n"
      ]
    },
    {
      "cell_type": "markdown",
      "metadata": {
        "id": "t6GyzD7kAOAJ"
      },
      "source": [
        "# Project Timeline Proposal"
      ]
    },
    {
      "cell_type": "markdown",
      "metadata": {
        "id": "lYxrRJIbAOAJ"
      },
      "source": [
        "| Meeting Date  | Meeting Time| Completed Before Meeting  | Discuss at Meeting |\n",
        "|---|---|---|---|\n",
        "| 2/15  |  1 PM |  Brainstorm topics/questions (all)  | Determine best form of communication; Discuss and decide on final project topic; discuss hypothesis; begin background research | \n",
        "| 2/22  |  1 PM |   Explore and Clean Diabetes Data  (Vincent) | Review Diabetes Dataset Information; Finalize and Submit Final Project Proposal | \n",
        "| 3/1  | 1 PM  | Find Possible Multiclassification Models To Use | Discuss possible analytical approaches; Discuss approach to search for hyperparameters; Define Loss Function; Assign group members to lead each specific part   |\n",
        "| 3/8  | 1 PM  | Begin programming for project (TBD) | Discuss/edit project code; Complete project |\n",
        "| 3/15  | 1 PM  | Complete analysis; Draft results/conclusion/discussion (TBD) | Discuss/edit full project |\n",
        "| 3/22  | Before 11:59 PM  | N/A | Turn in Final Project and Team Evaluation Survey  |\n"
      ]
    },
    {
      "cell_type": "markdown",
      "metadata": {
        "id": "I5Dq3mI2AOAJ"
      },
      "source": [
        "# Footnotes\n",
        "\n",
        "<a name=\"stracknote\"></a>1.[^](#strack): Strack, B., DeShazo, J.P., Gennings, C., Olmo, J.L., Ventura, S., Cios, K.J., & Clore, J.N. (2014) Impact of HbA1c Measurement on Hospital Readmission Rates: Analysis of 70,000 Clinical Database Patient Records. https://archive.ics.uci.edu/ml/datasets/Diabetes+130-US+hospitals+for+years+1999-2008<br> \n",
        "<a name=\"singlanote\"></a>2.[^](#singla): Singla, R., Singla, A., Gupta, Y., & Kalra, S. (2019). Artificial Intelligence/Machine Learning in Diabetes Care. Indian Journal of Endocrinology and Metabolism, 23(4), 495-497. doi: 10.4103/ijem.IJEM_228_19. PMCID: PMC6844177. PMID: 31741913. https://www.ncbi.nlm.nih.gov/pmc/articles/PMC6844177/ <br>\n",
        "\n",
        "<a name=\"gulatinote\"></a>3.[^](#gulati):Gulati, A. P. (2022, January 4). Diabetes Prediction Using Machine Learning. Analytics Vidhya. Retrieved from https://www.analyticsvidhya.com/blog/2022/01/diabetes-prediction-using-machine-learning/"
      ]
    }
  ],
  "metadata": {
    "kernelspec": {
      "display_name": "Python 3",
      "language": "python",
      "name": "python3"
    },
    "language_info": {
      "codemirror_mode": {
        "name": "ipython",
        "version": 3
      },
      "file_extension": ".py",
      "mimetype": "text/x-python",
      "name": "python",
      "nbconvert_exporter": "python",
      "pygments_lexer": "ipython3",
      "version": "3.8.8"
    },
    "colab": {
      "provenance": []
    }
  },
  "nbformat": 4,
  "nbformat_minor": 0
}